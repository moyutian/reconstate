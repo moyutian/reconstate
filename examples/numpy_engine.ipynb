{
 "cells": [
  {
   "cell_type": "code",
   "execution_count": 1,
   "metadata": {},
   "outputs": [],
   "source": [
    "import numpy as np\n",
    "import pandas as pd\n",
    "import matplotlib.pyplot as plt\n",
    "from tqdm import tqdm\n",
    "import sym_metanet as metanet\n",
    "from sym_metanet import (\n",
    "    Destination,\n",
    "    Link,\n",
    "    MainstreamOrigin,\n",
    "    MeteredOnRamp,\n",
    "    Network,\n",
    "    Node,\n",
    "    engines,\n",
    ")"
   ]
  },
  {
   "cell_type": "code",
   "execution_count": 2,
   "metadata": {},
   "outputs": [],
   "source": [
    "#time input\n",
    "start_point = 6*12\n",
    "end_point = 22*12\n",
    "#file input\n",
    "flow = pd.read_csv(\"../event_model_flow.csv\",index_col=0,parse_dates=True).iloc[start_point:end_point]\n",
    "speed = pd.read_csv(\"../event_model_speed.csv\",index_col=0,parse_dates=True).iloc[start_point:end_point]\n",
    "off_ramp_rate = pd.read_csv(\"../event_model_down.csv\",index_col=0,parse_dates=True).iloc[start_point:end_point]\n",
    "on_ramp = pd.read_csv(\"../event_model_up.csv\",index_col=0,parse_dates=True).iloc[start_point:end_point]\n",
    "#time parameters input\n",
    "measure_time = 300\n",
    "simulation_time = 4\n",
    "sampling_interval = int(measure_time / simulation_time)\n",
    "T = simulation_time/3600\n",
    "#global parameters input\n",
    "tau = 18 / 3600\n",
    "kappa = 40\n",
    "eta = 60\n",
    "delta = 0.0122\n",
    "phi = 0.02\n",
    "#local parameter input(以下参数均可考虑异质性)\n",
    "C = 2000 #匝道通行能力\n",
    "a = 1.867\n",
    "rho_crit = 33.5\n",
    "rho_max = 180\n",
    "v_free = 102"
   ]
  },
  {
   "cell_type": "code",
   "execution_count": null,
   "metadata": {},
   "outputs": [
    {
     "data": {
      "text/plain": [
       "98"
      ]
     },
     "execution_count": 116,
     "metadata": {},
     "output_type": "execute_result"
    }
   ],
   "source": []
  },
  {
   "cell_type": "code",
   "execution_count": null,
   "metadata": {},
   "outputs": [],
   "source": [
    "lanes = [4,4,4,4,4,2,2]\n",
    "link_lengths = [1.15,0.30,5.41,1.24,0.68,0.2,0.2]\n",
    "num_segments = [5,1,27,6,3,1,1]\n",
    "segment_lengths = [round(i,3) for i in list(np.array(link_lengths)/np.array(num_segments))]\n",
    "N1 = Node(name=\"N1\")\n",
    "N2 = Node(name=\"N2\")\n",
    "N3 = Node(name=\"N3\")\n",
    "N4 = Node(name=\"N4\")\n",
    "N5 = Node(name=\"N5\")\n",
    "N6 = Node(name=\"N6\")\n",
    "N_off1 = Node(name=\"N_off1\")\n",
    "N_off2 = Node(name=\"N_off2\")\n",
    "\n",
    "\n",
    "O1 = MainstreamOrigin(name=\"O1\")\n",
    "O_GL = MeteredOnRamp(C, name=\"O_GL\")\n",
    "O_JC = MeteredOnRamp(C, name=\"O_JC\")\n",
    "\n",
    "D1 = Destination(name=\"D1\")\n",
    "D_GL = Destination(name=\"D_GL\")\n",
    "D_JC = Destination(name=\"D_JC\")\n",
    "\n",
    "L1 = Link(num_segments[0], lanes[0], segment_lengths[0], rho_max, rho_crit, v_free, a, name=\"L1\")\n",
    "L2 = Link(num_segments[1], lanes[1], segment_lengths[1], rho_max, rho_crit, v_free, a, name=\"L2\")\n",
    "L3 = Link(num_segments[2], lanes[2], segment_lengths[2], rho_max, rho_crit, v_free, a, name=\"L3\")\n",
    "L4 = Link(num_segments[3], lanes[3], segment_lengths[3], rho_max, rho_crit, v_free, a, name=\"L4\")\n",
    "L5 = Link(num_segments[4], lanes[4], segment_lengths[4], rho_max, rho_crit, v_free, a, name=\"L5\")\n",
    "L_off1 = Link(1, 2, 0.2, rho_max, rho_crit, v_free, a, name=\"L_off1\") #1段两百米的下匝道（2车道）\n",
    "L_off2 = Link(1, 2, 0.2, rho_max, rho_crit, v_free, a, name=\"L_off2\")\n",
    "\n",
    "net = (\n",
    "    Network(name=\"A1\")\n",
    "    .add_path(origin=O1, path=(N1, L1, N2, L2, N3, L3, N4, L4, N5, L5, N6), destination=D1)\n",
    "    .add_path(path=(N1, L1, N2,L_off1,N_off1), destination=D_GL)\n",
    "    .add_path(path=(N1, L1, N2, L2, N3, L3, N4,L_off2,N_off2), destination=D_JC)\n",
    "    .add_origin(O_GL, N3)\n",
    "    .add_origin(O_JC, N5)\n",
    ")\n",
    "engines.use(\"numpy\")\n",
    "\n",
    "net.is_valid(raises=True)\n",
    "init_conditions = {L1:{'rho':np.array([20 for i in range(L1.N)]),'v':np.array([90 for i in range(L1.N)]),'turningrate':np.array([1])},\n",
    "                   L2:{'rho':np.array([20 for i in range(L2.N)]),'v':np.array([90 for i in range(L2.N)]),'turningrate':np.array([1])},\n",
    "                   L3:{'rho':np.array([20 for i in range(L3.N)]),'v':np.array([90 for i in range(L3.N)]),'turningrate':np.array([1])},\n",
    "                   L4:{'rho':np.array([20 for i in range(L4.N)]),'v':np.array([90 for i in range(L4.N)]),'turningrate':np.array([1])},\n",
    "                   L5:{'rho':np.array([20 for i in range(L5.N)]),'v':np.array([90 for i in range(L5.N)]),'turningrate':np.array([1])},\n",
    "                   L_off1:{'rho':np.array([20 for i in range(L_off1.N)]),'v':np.array([90 for i in range(L_off1.N)]),'turningrate':np.array([1])},\n",
    "                   L_off2:{'rho':np.array([20 for i in range(L_off2.N)]),'v':np.array([90 for i in range(L_off2.N)]),'turningrate':np.array([1])},\n",
    "                   O1:{'w':np.array([0]),'v_ctrl':np.array([np.inf]),'d':np.array([1000])},\n",
    "                   O_GL:{'w':np.array([0]),'r':np.array([1]),'d':np.array([1000])},\n",
    "                   O_JC:{'w':np.array([0]),'r':np.array([1]),'d':np.array([1000])},}\n",
    "main_links = [L1,L2,L3,L4,L5]\n",
    "off_links = [L_off1,L_off2]\n",
    "main_origin = [O1]\n",
    "ramp_origin = [O_GL,O_JC]\n",
    "RHO = []\n",
    "V = []\n",
    "TURN = []\n",
    "D = []\n",
    "W = []\n",
    "turningrate_std = 0\n",
    "demand_std = 0\n",
    "def states_regulate(all_states):\n",
    "    rho = all_states[0:sum(num_segments)]\n",
    "    v = all_states[sum(num_segments):2*sum(num_segments)]\n",
    "    turn = all_states[2*sum(num_segments):2*sum(num_segments)+len(num_segments)]\n",
    "    w = all_states[2*sum(num_segments)+len(num_segments):2*sum(num_segments)+len(num_segments)+len(main_origin+ramp_origin)]\n",
    "    d = all_states[2*sum(num_segments)+len(num_segments)+len(main_origin+ramp_origin):2*sum(num_segments)+len(num_segments)+2*len(main_origin+ramp_origin)]\n",
    "    init_conditions = {}\n",
    "    k1 = 0\n",
    "    k2 = 0\n",
    "    for index,link in enumerate(main_links+off_links):\n",
    "        init_conditions[link] = {}\n",
    "        k2 += num_segments[index]\n",
    "        init_conditions[link]['rho'] = rho[k1:k2]\n",
    "        init_conditions[link]['v'] = v[k1:k2]\n",
    "        init_conditions[link]['turningrate'] = np.array([turn[index]]) ###需要修改\n",
    "        k1 = k2\n",
    "    for index,origin in enumerate(main_origin+ramp_origin):\n",
    "        init_conditions[origin] = {}\n",
    "        init_conditions[origin]['w'] = np.array([w[index]])\n",
    "        if origin == O1:\n",
    "            init_conditions[origin]['v_ctrl'] = np.array([np.inf])\n",
    "        else:\n",
    "            init_conditions[origin]['r'] = np.array([1])\n",
    "        init_conditions[origin]['d'] = np.array([d[index]])\n",
    "    return init_conditions\n",
    "net.step(init_conditions=init_conditions,T=T, tau=tau, eta=eta, kappa=kappa, delta=delta)\n",
    "rho = np.hstack([net.states[l]['rho'] for l in main_links+off_links])\n",
    "v = np.hstack([net.states[l]['v'] for l in main_links+off_links])\n",
    "turn = np.hstack([max(net.disturbances[l]['turningrate'],0) for l in main_links+off_links])\n",
    "w = np.hstack([net.states[o]['w'] for o in main_origin+ramp_origin])\n",
    "d = np.hstack([max(net.disturbances[o]['d'],0) for o in main_origin+ramp_origin])\n",
    "all_states = np.hstack([rho,v,turn,w,d])"
   ]
  },
  {
   "cell_type": "code",
   "execution_count": 4,
   "metadata": {},
   "outputs": [],
   "source": [
    "def fx(all_states,T):\n",
    "    init_conditions = states_regulate(all_states)\n",
    "    net.step(init_conditions=init_conditions,T=T, tau=tau, eta=eta, kappa=kappa, delta=delta)\n",
    "    rho = np.hstack([net.next_states[l]['rho'] for l in main_links+off_links])\n",
    "    v = np.hstack([net.next_states[l]['v'] for l in main_links+off_links])\n",
    "    turn = np.hstack([max(net.disturbances[l]['turningrate']+np.random.normal(0,turningrate_std),0) for l in main_links+off_links])\n",
    "    w = np.hstack([net.next_states[o]['w'] for o in main_origin+ramp_origin])\n",
    "    d = np.hstack([max(net.disturbances[o]['d']+np.random.normal(0,demand_std),0) for o in main_origin+ramp_origin])\n",
    "    all_states = np.hstack([rho,v,turn,w,d])\n",
    "    return all_states"
   ]
  },
  {
   "cell_type": "code",
   "execution_count": 6,
   "metadata": {},
   "outputs": [],
   "source": [
    "def hx(states):\n",
    "    return np.array([states[0]*states[44],states[41]*states[85],states[44],states[85]])"
   ]
  },
  {
   "cell_type": "code",
   "execution_count": null,
   "metadata": {},
   "outputs": [],
   "source": [
    "from filterpy.kalman import MerweScaledSigmaPoints\n",
    "from filterpy.kalman import UnscentedKalmanFilter as UKF\n",
    "sigmas = MerweScaledSigmaPoints(all_states.shape[0], alpha=.1, beta=2., kappa=1.)\n",
    "ukf = UKF(dim_x=all_states.shape[0], dim_z=hx(all_states).shape[0], fx=fx,\n",
    "          hx=hx, dt=T, points=sigmas)\n",
    "ukf.x = all_states\n",
    "ukf.P = np.diag([0.001**2]*101)\n",
    "ukf.R = np.diag([0.00002**2,]*4)\n",
    "ukf.Q = np.eye(101)*0.001**2"
   ]
  },
  {
   "cell_type": "code",
   "execution_count": 10,
   "metadata": {},
   "outputs": [
    {
     "name": "stderr",
     "output_type": "stream",
     "text": [
      "  0%|          | 0/50 [00:00<?, ?it/s]"
     ]
    },
    {
     "name": "stderr",
     "output_type": "stream",
     "text": [
      "100%|██████████| 50/50 [00:12<00:00,  3.87it/s]\n"
     ]
    }
   ],
   "source": [
    "from tqdm import tqdm\n",
    "tmp = []\n",
    "for time_index in tqdm(range(50)):\n",
    "    ukf.predict()\n",
    "    z = [1805,1100,65,95]\n",
    "    ukf.update(z)\n",
    "    tmp.append(ukf.x)"
   ]
  },
  {
   "cell_type": "code",
   "execution_count": 11,
   "metadata": {},
   "outputs": [],
   "source": [
    "zs = []\n",
    "for i in range(50):\n",
    "    zs.append(z)"
   ]
  },
  {
   "cell_type": "code",
   "execution_count": 13,
   "metadata": {},
   "outputs": [],
   "source": [
    "means,covariances = ukf.batch_filter(zs)"
   ]
  },
  {
   "cell_type": "code",
   "execution_count": 14,
   "metadata": {},
   "outputs": [
    {
     "data": {
      "text/plain": [
       "array([[  27.88852856,   30.32979904,   29.57992094, ..., 1029.06431882,\n",
       "         999.9959388 ,  997.71979613],\n",
       "       [  27.88851319,   30.32968451,   29.57958772, ..., 1029.63908735,\n",
       "         999.99542072,  997.67137447],\n",
       "       [  27.88849159,   30.32950915,   29.57903911, ..., 1030.21944872,\n",
       "         999.99487895,  997.62240183],\n",
       "       ...,\n",
       "       [  27.88699195,   30.3196337 ,   29.57799782, ..., 1062.08470885,\n",
       "         999.93961185,  994.86313739],\n",
       "       [  27.88696007,   30.3194361 ,   29.57804355, ..., 1062.91927689,\n",
       "         999.93749499,  994.79076371],\n",
       "       [  27.88692643,   30.31922059,   29.57802214, ..., 1063.75927281,\n",
       "         999.93532809,  994.71798532]])"
      ]
     },
     "execution_count": 14,
     "metadata": {},
     "output_type": "execute_result"
    }
   ],
   "source": [
    "means"
   ]
  },
  {
   "cell_type": "code",
   "execution_count": 17,
   "metadata": {},
   "outputs": [],
   "source": [
    "xs,ps,ks = ukf.rts_smoother(means,covariances)"
   ]
  },
  {
   "cell_type": "code",
   "execution_count": 56,
   "metadata": {},
   "outputs": [
    {
     "data": {
      "text/plain": [
       "[<matplotlib.lines.Line2D at 0x7f0876e6bed0>]"
      ]
     },
     "execution_count": 56,
     "metadata": {},
     "output_type": "execute_result"
    },
    {
     "data": {
      "image/png": "[encoded data removed]",
      "text/plain": [
       "<Figure size 640x480 with 1 Axes>"
      ]
     },
     "metadata": {},
     "output_type": "display_data"
    }
   ],
   "source": [
    "plt.plot(means[:,-22])\n",
    "plt.plot(xs[:,-22])\n"
   ]
  },
  {
   "cell_type": "code",
   "execution_count": null,
   "metadata": {},
   "outputs": [],
   "source": []
  },
  {
   "cell_type": "code",
   "execution_count": 10,
   "metadata": {},
   "outputs": [
    {
     "data": {
      "text/plain": [
       "array([1.25120773e+01, 2.00000000e+01, 2.00000000e+01, 2.00000000e+01,\n",
       "       2.00000000e+01, 1.66666667e+01, 2.13888889e+01, 2.00000000e+01,\n",
       "       2.00000000e+01, 2.00000000e+01, 2.00000000e+01, 2.00000000e+01,\n",
       "       2.00000000e+01, 2.00000000e+01, 2.00000000e+01, 2.00000000e+01,\n",
       "       2.00000000e+01, 2.00000000e+01, 2.00000000e+01, 2.00000000e+01,\n",
       "       2.00000000e+01, 2.00000000e+01, 2.00000000e+01, 2.00000000e+01,\n",
       "       2.00000000e+01, 2.00000000e+01, 2.00000000e+01, 2.00000000e+01,\n",
       "       2.00000000e+01, 2.00000000e+01, 2.00000000e+01, 2.00000000e+01,\n",
       "       2.00000000e+01, 1.51690821e+01, 2.00000000e+01, 2.00000000e+01,\n",
       "       2.00000000e+01, 2.00000000e+01, 2.00000000e+01, 2.12236907e+01,\n",
       "       2.00000000e+01, 2.00000000e+01, 2.00000000e+01, 2.00000000e+01,\n",
       "       8.84752116e+01, 8.84752116e+01, 8.84752116e+01, 8.84752116e+01,\n",
       "       8.84752116e+01, 8.84752116e+01, 8.84497950e+01, 8.84752116e+01,\n",
       "       8.84752116e+01, 8.84752116e+01, 8.84752116e+01, 8.84752116e+01,\n",
       "       8.84752116e+01, 8.84752116e+01, 8.84752116e+01, 8.84752116e+01,\n",
       "       8.84752116e+01, 8.84752116e+01, 8.84752116e+01, 8.84752116e+01,\n",
       "       8.84752116e+01, 8.84752116e+01, 8.84752116e+01, 8.84752116e+01,\n",
       "       8.84752116e+01, 8.84752116e+01, 8.84752116e+01, 8.84752116e+01,\n",
       "       8.84752116e+01, 8.84752116e+01, 8.84752116e+01, 8.84752116e+01,\n",
       "       8.84752116e+01, 8.84752116e+01, 8.84752116e+01, 8.84752116e+01,\n",
       "       8.84752116e+01, 8.84752116e+01, 8.84752116e+01, 8.84528181e+01,\n",
       "       8.84752116e+01, 8.84752116e+01, 8.84752116e+01, 8.84752116e+01,\n",
       "       1.00902677e+00, 9.96680658e-01, 9.89412929e-01, 1.00258151e+00,\n",
       "       1.00208067e+00, 1.01311042e+00, 9.93009604e-01, 0.00000000e+00,\n",
       "       0.00000000e+00, 0.00000000e+00, 1.01190653e+03, 9.79750339e+02,\n",
       "       8.49890507e+02])"
      ]
     },
     "execution_count": 10,
     "metadata": {},
     "output_type": "execute_result"
    }
   ],
   "source": [
    "all_states"
   ]
  },
  {
   "cell_type": "code",
   "execution_count": null,
   "metadata": {},
   "outputs": [],
   "source": []
  },
  {
   "cell_type": "code",
   "execution_count": null,
   "metadata": {},
   "outputs": [],
   "source": []
  },
  {
   "cell_type": "code",
   "execution_count": null,
   "metadata": {},
   "outputs": [],
   "source": [
    "net.next_states[L2]['rho']"
   ]
  },
  {
   "cell_type": "code",
   "execution_count": null,
   "metadata": {},
   "outputs": [],
   "source": [
    "net.next_states[L1]['rho']"
   ]
  },
  {
   "cell_type": "code",
   "execution_count": null,
   "metadata": {},
   "outputs": [],
   "source": [
    "import matplotlib.pyplot as plt\n",
    "plt.plot(v)"
   ]
  },
  {
   "cell_type": "code",
   "execution_count": null,
   "metadata": {},
   "outputs": [],
   "source": []
  },
  {
   "cell_type": "code",
   "execution_count": null,
   "metadata": {},
   "outputs": [],
   "source": [
    "init_conditions"
   ]
  }
 ],
 "metadata": {
  "kernelspec": {
   "display_name": "base",
   "language": "python",
   "name": "python3"
  },
  "language_info": {
   "codemirror_mode": {
    "name": "ipython",
    "version": 3
   },
   "file_extension": ".py",
   "mimetype": "text/x-python",
   "name": "python",
   "nbconvert_exporter": "python",
   "pygments_lexer": "ipython3",
   "version": "3.11.5"
  }
 },
 "nbformat": 4,
 "nbformat_minor": 2
}
